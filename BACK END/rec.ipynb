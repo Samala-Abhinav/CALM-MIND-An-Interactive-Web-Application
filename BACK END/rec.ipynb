{
 "cells": [
  {
   "cell_type": "code",
   "execution_count": 2,
   "metadata": {},
   "outputs": [],
   "source": [
    "import pandas as pd \n",
    "import numpy as np\n",
    "from scipy.sparse import csr_matrix\n",
    "from scipy.sparse.linalg import svds"
   ]
  },
  {
   "cell_type": "code",
   "execution_count": 4,
   "metadata": {},
   "outputs": [
    {
     "data": {
      "text/html": [
       "<div>\n",
       "<style scoped>\n",
       "    .dataframe tbody tr th:only-of-type {\n",
       "        vertical-align: middle;\n",
       "    }\n",
       "\n",
       "    .dataframe tbody tr th {\n",
       "        vertical-align: top;\n",
       "    }\n",
       "\n",
       "    .dataframe thead th {\n",
       "        text-align: right;\n",
       "    }\n",
       "</style>\n",
       "<table border=\"1\" class=\"dataframe\">\n",
       "  <thead>\n",
       "    <tr style=\"text-align: right;\">\n",
       "      <th></th>\n",
       "      <th>Unnamed: 0</th>\n",
       "      <th>UserID</th>\n",
       "      <th>Mood Before</th>\n",
       "      <th>Yoga Practice</th>\n",
       "      <th>Duration</th>\n",
       "      <th>Frequency</th>\n",
       "      <th>Mood After</th>\n",
       "      <th>Feedback</th>\n",
       "    </tr>\n",
       "  </thead>\n",
       "  <tbody>\n",
       "    <tr>\n",
       "      <th>0</th>\n",
       "      <td>0</td>\n",
       "      <td>1</td>\n",
       "      <td>Fear</td>\n",
       "      <td>Parighasana</td>\n",
       "      <td>30 min</td>\n",
       "      <td>Weekly</td>\n",
       "      <td>Angry</td>\n",
       "      <td>No significant change</td>\n",
       "    </tr>\n",
       "    <tr>\n",
       "      <th>1</th>\n",
       "      <td>1</td>\n",
       "      <td>2</td>\n",
       "      <td>Angry</td>\n",
       "      <td>Salabhasana</td>\n",
       "      <td>60 min</td>\n",
       "      <td>Daily</td>\n",
       "      <td>Jealousy</td>\n",
       "      <td>Felt more relaxed</td>\n",
       "    </tr>\n",
       "    <tr>\n",
       "      <th>2</th>\n",
       "      <td>2</td>\n",
       "      <td>3</td>\n",
       "      <td>Addiction</td>\n",
       "      <td>Vajrasana</td>\n",
       "      <td>15 min</td>\n",
       "      <td>Monthly</td>\n",
       "      <td>Overwhelmed</td>\n",
       "      <td>Improved mood</td>\n",
       "    </tr>\n",
       "    <tr>\n",
       "      <th>3</th>\n",
       "      <td>3</td>\n",
       "      <td>4</td>\n",
       "      <td>Gratitude</td>\n",
       "      <td>Parsva Bakasana</td>\n",
       "      <td>60 min</td>\n",
       "      <td>Twice a week</td>\n",
       "      <td>Loneliness</td>\n",
       "      <td>Improved mood</td>\n",
       "    </tr>\n",
       "    <tr>\n",
       "      <th>4</th>\n",
       "      <td>4</td>\n",
       "      <td>5</td>\n",
       "      <td>Angry</td>\n",
       "      <td>Ardha Pincha Mayurasana</td>\n",
       "      <td>30 min</td>\n",
       "      <td>Weekly</td>\n",
       "      <td>Contentment</td>\n",
       "      <td>Helped with anxiety</td>\n",
       "    </tr>\n",
       "  </tbody>\n",
       "</table>\n",
       "</div>"
      ],
      "text/plain": [
       "   Unnamed: 0  UserID Mood Before            Yoga Practice Duration  \\\n",
       "0           0       1        Fear              Parighasana   30 min   \n",
       "1           1       2       Angry              Salabhasana   60 min   \n",
       "2           2       3   Addiction                Vajrasana   15 min   \n",
       "3           3       4   Gratitude          Parsva Bakasana   60 min   \n",
       "4           4       5       Angry  Ardha Pincha Mayurasana   30 min   \n",
       "\n",
       "      Frequency   Mood After               Feedback  \n",
       "0        Weekly        Angry  No significant change  \n",
       "1         Daily     Jealousy      Felt more relaxed  \n",
       "2       Monthly  Overwhelmed          Improved mood  \n",
       "3  Twice a week   Loneliness          Improved mood  \n",
       "4        Weekly  Contentment    Helped with anxiety  "
      ]
     },
     "execution_count": 4,
     "metadata": {},
     "output_type": "execute_result"
    }
   ],
   "source": [
    "df = pd.read_csv(\"Recommendation_yoga_data.csv\")\n",
    "df.head()"
   ]
  },
  {
   "cell_type": "code",
   "execution_count": 7,
   "metadata": {},
   "outputs": [],
   "source": [
    "moods = df['Mood Before'].unique()\n",
    "poses = df['Yoga Practice'].unique()\n",
    "mood_to_idx = {mood: idx for idx, mood in enumerate(moods)}\n",
    "pose_to_idx = {pose: idx for idx, pose in enumerate(poses)}\n"
   ]
  },
  {
   "cell_type": "code",
   "execution_count": 19,
   "metadata": {},
   "outputs": [],
   "source": [
    "interaction_matrix = csr_matrix((len(mood_to_idx), len(pose_to_idx)), dtype=int)\n",
    "interaction_matrix_float = interaction_matrix.astype('float32')"
   ]
  },
  {
   "cell_type": "code",
   "execution_count": 29,
   "metadata": {},
   "outputs": [],
   "source": [
    "for _, row in df.iterrows():\n",
    "    mood_idx = mood_to_idx[row['Mood Before']]\n",
    "    pose_idx = pose_to_idx[row['Yoga Practice']]\n",
    "    interaction_matrix_float[mood_idx, pose_idx] += 1\n",
    "\n",
    "num_features = min(interaction_matrix_float.shape) - 1  # Choose a suitable number of features\n",
    "u, sigma, vt = svds(interaction_matrix_float, k=num_features)\n",
    "sigma_diag_matrix = np.diag(sigma)"
   ]
  },
  {
   "cell_type": "code",
   "execution_count": 38,
   "metadata": {},
   "outputs": [
    {
     "name": "stdout",
     "output_type": "stream",
     "text": [
      "['Chakravakasana', 'Astavakrasana', 'Agnistambhasana']\n"
     ]
    }
   ],
   "source": [
    "def recommend_poses(mood, u, sigma, vt, top_n=3):\n",
    "    mood_idx = mood_to_idx[mood]\n",
    "    mood_latent_features = np.dot(u[mood_idx, :], sigma)\n",
    "    pose_scores = np.dot(mood_latent_features, vt)\n",
    "\n",
    "    top_pose_indices = np.argsort(pose_scores)[::-1][:top_n]\n",
    "    recommended_poses = [poses[idx] for idx in top_pose_indices]\n",
    "\n",
    "    return recommended_poses"
   ]
  },
  {
   "cell_type": "code",
   "execution_count": null,
   "metadata": {},
   "outputs": [],
   "source": [
    "recommended_poses = recommend_poses('Angry', u, sigma_diag_matrix, vt, top_n=3)\n",
    "print(recommended_poses)"
   ]
  },
  {
   "cell_type": "code",
   "execution_count": null,
   "metadata": {},
   "outputs": [],
   "source": []
  }
 ],
 "metadata": {
  "kernelspec": {
   "display_name": "Python 3",
   "language": "python",
   "name": "python3"
  },
  "language_info": {
   "codemirror_mode": {
    "name": "ipython",
    "version": 3
   },
   "file_extension": ".py",
   "mimetype": "text/x-python",
   "name": "python",
   "nbconvert_exporter": "python",
   "pygments_lexer": "ipython3",
   "version": "3.10.8"
  }
 },
 "nbformat": 4,
 "nbformat_minor": 2
}
