{
 "cells": [
  {
   "cell_type": "code",
   "execution_count": 2,
   "metadata": {},
   "outputs": [],
   "source": [
    "# Define the mood states and associated yoga poses\n",
    "yoga_recommendations = {\n",
    "    'Addiction': ['Adho Mukha Svanasana', 'Ardha Chandrasana', 'Kurmasana', 'Marjaryasana', 'Parighasana', 'Parsva Bakasana', 'Urdhva Dhanurasana'],\n",
    "    'Angry': ['Agnistambhasana', 'Ananda Balasana', 'Ashtanga Namaskara', 'Lolasana', 'Makara Adho Mukha Svanasana', 'Marichyasana I', 'Utthita Trikonasana'],\n",
    "    'Anxious': ['Adho Mukha Svanasana', 'Ardha Bhekasana', 'Chakravakasana', 'Garbha Pindasana', 'Kapotasana', 'Makara Adho Mukha Svanasana', 'Parivrtta Trikonasana', 'Salamba Bhujangasana', 'Utthita Ashwa Sanchalanasana'],\n",
    "    'Calm': ['Ardha Matsyendrasana', 'Baddha Konasana', 'Bhairavasana', 'Phalakasana', 'Savasana', 'Tulasana', 'Vajrasana'],\n",
    "    'Contentment': ['Dwi Pada Viparita Dandasana', 'Eka Pada Koundinyanasana I', 'Eka Pada Koundinyanasana II', 'Eka Pada Rajakapotasana II', 'Marichyasana III', 'Purvottanasana', 'Supta Padangusthasana'],\n",
    "    'Depression': ['Anjaneyasana', 'Astavakrasana', 'Camatkarasana', 'Chaturanga Dandasana', 'Gomukhasana', 'Parighasana', 'Sukhasana'],\n",
    "    'Difficulty Sleeping': ['Anantasana', 'Hanumanasana', 'Salamba Sarvangasana', 'Salamba Sirsasana', 'Savasana', 'Urdhva Hastasana', 'Virasana'],\n",
    "    'Energetic': ['Ardha Pincha Mayurasana', 'Camatkarasana', 'Janu Sirsasana', 'Marichyasana I', 'Parivrtta Parsvakonasana', 'Parsvottanasana', 'Utthita Hasta Padangustasana'],\n",
    "    'Excited': ['Lolasana', 'Marichyasana III', 'Natarajasana', 'Simhasana', 'Utthita Ashwa Sanchalanasana', 'Virabhadrasana I', 'Virabhadrasana II', 'Virabhadrasana III', 'Vriksasana'],\n",
    "    'Fear': ['Ananda Balasana', 'Savasana', 'Uttana Shishosana', 'Virabhadrasana I', 'Virabhadrasana II', 'Virabhadrasana III', 'Virasana'],\n",
    "    'Frustration': ['Ardha Matsyendrasana', 'Durvasasana', 'Hanumanasana', 'Janu Sirsasana', 'Padangusthasana', 'Savasana', 'Virabhadrasana III'],\n",
    "    'Gratitude': ['Ardha Pincha Mayurasana', 'Durvasasana', 'Marjaryasana', 'Purvottanasana', 'Supta Virasana', 'Urdhva Hastasana', 'Yoganidrasana'],\n",
    "    'Grief': ['Adho Mukha Vriksasana', 'Ardha Pincha Mayurasana', 'Chakravakasana', 'Hanumanasana', 'Marichyasana III', 'Purvottanasana', 'Uttana Shishosana'],\n",
    "    'Jealousy': ['Agnistambhasana', 'Ananda Balasana', 'Ardha Bhekasana', 'Astavakrasana', 'Camatkarasana', 'Chakravakasana', 'Dandasana', 'Gomukhasana', 'Supta Padangusthasana'],\n",
    "    'Loneliness': ['Ashtanga Namaskara', 'Garudasana', 'Prasarita Padottanasana', 'Simhasana', 'Sukhasana', 'Supta Padangusthasana', 'Utthita Ashwa Sanchalanasana'],\n",
    "    'Overwhelmed': ['Bhekasana', 'Janu Sirsasana', 'Kapotasana', 'Marjaryasana', 'Mayurasana', 'Utthita Ashwa Sanchalanasana'],\n",
    "    'Pressure': ['Ashtanga Namaskara', 'Bakasana', 'Eka Pada Koundinyanasana II', 'Janu Sirsasana', 'Lolasana', 'Parivrtta Trikonasana', 'Salabhasana', 'Virasana'],\n",
    "    'Sadness': ['Adho Mukha Svanasana', 'Ananda Balasana', 'Bitilasana', 'Ganda Bherundasana', 'Krounchasana', 'Makarasana', 'Utthita Trikonasana'],\n",
    "    'Stress': ['Adho Mukha Svanasana', 'Ardha Uttanasana', 'Bhairavasana', 'Dhanurasana', 'Eka Pada Rajakapotasana II', 'Garbha Pindasana', 'Kapotasana']\n",
    "}\n",
    "\n",
    "\n"
   ]
  },
  {
   "cell_type": "code",
   "execution_count": 8,
   "metadata": {},
   "outputs": [
    {
     "data": {
      "text/html": [
       "<div>\n",
       "<style scoped>\n",
       "    .dataframe tbody tr th:only-of-type {\n",
       "        vertical-align: middle;\n",
       "    }\n",
       "\n",
       "    .dataframe tbody tr th {\n",
       "        vertical-align: top;\n",
       "    }\n",
       "\n",
       "    .dataframe thead th {\n",
       "        text-align: right;\n",
       "    }\n",
       "</style>\n",
       "<table border=\"1\" class=\"dataframe\">\n",
       "  <thead>\n",
       "    <tr style=\"text-align: right;\">\n",
       "      <th></th>\n",
       "      <th>UserID</th>\n",
       "      <th>Mood Before</th>\n",
       "      <th>Yoga Practice</th>\n",
       "      <th>Duration</th>\n",
       "      <th>Frequency</th>\n",
       "      <th>Mood After</th>\n",
       "      <th>Feedback</th>\n",
       "    </tr>\n",
       "  </thead>\n",
       "  <tbody>\n",
       "    <tr>\n",
       "      <th>0</th>\n",
       "      <td>1</td>\n",
       "      <td>Fear</td>\n",
       "      <td>Parighasana</td>\n",
       "      <td>30 min</td>\n",
       "      <td>Weekly</td>\n",
       "      <td>Angry</td>\n",
       "      <td>No significant change</td>\n",
       "    </tr>\n",
       "    <tr>\n",
       "      <th>1</th>\n",
       "      <td>2</td>\n",
       "      <td>Angry</td>\n",
       "      <td>Salabhasana</td>\n",
       "      <td>60 min</td>\n",
       "      <td>Daily</td>\n",
       "      <td>Jealousy</td>\n",
       "      <td>Felt more relaxed</td>\n",
       "    </tr>\n",
       "    <tr>\n",
       "      <th>2</th>\n",
       "      <td>3</td>\n",
       "      <td>Addiction</td>\n",
       "      <td>Vajrasana</td>\n",
       "      <td>15 min</td>\n",
       "      <td>Monthly</td>\n",
       "      <td>Overwhelmed</td>\n",
       "      <td>Improved mood</td>\n",
       "    </tr>\n",
       "    <tr>\n",
       "      <th>3</th>\n",
       "      <td>4</td>\n",
       "      <td>Gratitude</td>\n",
       "      <td>Parsva Bakasana</td>\n",
       "      <td>60 min</td>\n",
       "      <td>Twice a week</td>\n",
       "      <td>Loneliness</td>\n",
       "      <td>Improved mood</td>\n",
       "    </tr>\n",
       "    <tr>\n",
       "      <th>4</th>\n",
       "      <td>5</td>\n",
       "      <td>Angry</td>\n",
       "      <td>Ardha Pincha Mayurasana</td>\n",
       "      <td>30 min</td>\n",
       "      <td>Weekly</td>\n",
       "      <td>Contentment</td>\n",
       "      <td>Helped with anxiety</td>\n",
       "    </tr>\n",
       "  </tbody>\n",
       "</table>\n",
       "</div>"
      ],
      "text/plain": [
       "   UserID Mood Before            Yoga Practice Duration     Frequency  \\\n",
       "0       1        Fear              Parighasana   30 min        Weekly   \n",
       "1       2       Angry              Salabhasana   60 min         Daily   \n",
       "2       3   Addiction                Vajrasana   15 min       Monthly   \n",
       "3       4   Gratitude          Parsva Bakasana   60 min  Twice a week   \n",
       "4       5       Angry  Ardha Pincha Mayurasana   30 min        Weekly   \n",
       "\n",
       "    Mood After               Feedback  \n",
       "0        Angry  No significant change  \n",
       "1     Jealousy      Felt more relaxed  \n",
       "2  Overwhelmed          Improved mood  \n",
       "3   Loneliness          Improved mood  \n",
       "4  Contentment    Helped with anxiety  "
      ]
     },
     "execution_count": 8,
     "metadata": {},
     "output_type": "execute_result"
    }
   ],
   "source": [
    "import random\n",
    "import pandas as pd \n",
    "# Parameters for the dataset\n",
    "n_users = 2000\n",
    "moods_before = list(yoga_recommendations.keys())  # Using mood states as both before and after moods\n",
    "yoga_practices = list(set([pose for poses in yoga_recommendations.values() for pose in poses]))  # Unique yoga poses\n",
    "durations = ['15 min', '30 min', '45 min', '60 min']\n",
    "frequencies = ['Daily', 'Twice a week', 'Weekly', 'Monthly']\n",
    "feedbacks = ['Felt more relaxed', 'Helped with anxiety', 'No significant change', 'Improved mood', 'Increased energy']\n",
    "\n",
    "# Randomly generate data for each user\n",
    "data = {\n",
    "    'UserID': range(1, n_users + 1),\n",
    "    'Mood Before': [random.choice(moods_before) for _ in range(n_users)],\n",
    "    'Yoga Practice': [random.choice(yoga_practices) for _ in range(n_users)],\n",
    "    'Duration': [random.choice(durations) for _ in range(n_users)],\n",
    "    'Frequency': [random.choice(frequencies) for _ in range(n_users)],\n",
    "    'Mood After': [random.choice(moods_before) for _ in range(n_users)],  # Assuming moods_before and moods_after are the same\n",
    "    'Feedback': [random.choice(feedbacks) for _ in range(n_users)]\n",
    "}\n",
    "\n",
    "# Create a DataFrame\n",
    "df_mood_yoga = pd.DataFrame(data)\n",
    "\n",
    "# Display the first few rows of the DataFrame to verify\n",
    "df_mood_yoga.head()\n"
   ]
  },
  {
   "cell_type": "code",
   "execution_count": 9,
   "metadata": {},
   "outputs": [
    {
     "data": {
      "text/plain": [
       "2000"
      ]
     },
     "execution_count": 9,
     "metadata": {},
     "output_type": "execute_result"
    }
   ],
   "source": [
    "len(df_mood_yoga)"
   ]
  },
  {
   "cell_type": "code",
   "execution_count": 10,
   "metadata": {},
   "outputs": [],
   "source": [
    "df_mood_yoga.to_csv(\"Recommendation_yoga_data.csv\")"
   ]
  },
  {
   "cell_type": "code",
   "execution_count": 11,
   "metadata": {},
   "outputs": [],
   "source": [
    "import pandas as pd \n",
    "df=pd.read_csv(\"Recommendation_yoga_data.csv\")"
   ]
  },
  {
   "cell_type": "code",
   "execution_count": 12,
   "metadata": {},
   "outputs": [
    {
     "data": {
      "text/plain": [
       "array(['Parighasana', 'Salabhasana', 'Vajrasana', 'Parsva Bakasana',\n",
       "       'Ardha Pincha Mayurasana', 'Ananda Balasana', 'Makarasana',\n",
       "       'Lolasana', 'Janu Sirsasana', 'Eka Pada Koundinyanasana II',\n",
       "       'Ardha Chandrasana', 'Baddha Konasana', 'Chakravakasana',\n",
       "       'Agnistambhasana', 'Marichyasana I', 'Camatkarasana',\n",
       "       'Prasarita Padottanasana', 'Ardha Matsyendrasana',\n",
       "       'Parivrtta Trikonasana', 'Virabhadrasana II', 'Salamba Sirsasana',\n",
       "       'Uttana Shishosana', 'Makara Adho Mukha Svanasana',\n",
       "       'Adho Mukha Vriksasana', 'Utthita Ashwa Sanchalanasana',\n",
       "       'Supta Virasana', 'Virasana', 'Hanumanasana', 'Virabhadrasana I',\n",
       "       'Gomukhasana', 'Simhasana', 'Ganda Bherundasana', 'Dandasana',\n",
       "       'Urdhva Dhanurasana', 'Ardha Bhekasana', 'Bakasana',\n",
       "       'Purvottanasana', 'Phalakasana', 'Salamba Bhujangasana',\n",
       "       'Kurmasana', 'Utthita Hasta Padangustasana',\n",
       "       'Eka Pada Koundinyanasana I', 'Virabhadrasana III', 'Bitilasana',\n",
       "       'Parsvottanasana', 'Anjaneyasana', 'Sukhasana', 'Dhanurasana',\n",
       "       'Parivrtta Parsvakonasana', 'Marichyasana III',\n",
       "       'Adho Mukha Svanasana', 'Ashtanga Namaskara', 'Anantasana',\n",
       "       'Padangusthasana', 'Ardha Uttanasana', 'Urdhva Hastasana',\n",
       "       'Yoganidrasana', 'Chaturanga Dandasana', 'Marjaryasana',\n",
       "       'Natarajasana', 'Mayurasana', 'Bhairavasana',\n",
       "       'Utthita Trikonasana', 'Supta Padangusthasana', 'Garudasana',\n",
       "       'Tulasana', 'Garbha Pindasana', 'Eka Pada Rajakapotasana II',\n",
       "       'Dwi Pada Viparita Dandasana', 'Kapotasana', 'Bhekasana',\n",
       "       'Savasana', 'Vriksasana', 'Krounchasana', 'Salamba Sarvangasana',\n",
       "       'Astavakrasana', 'Durvasasana'], dtype=object)"
      ]
     },
     "execution_count": 12,
     "metadata": {},
     "output_type": "execute_result"
    }
   ],
   "source": [
    "df[\"Yoga Practice\"].unique()"
   ]
  },
  {
   "cell_type": "markdown",
   "metadata": {},
   "source": []
  },
  {
   "cell_type": "code",
   "execution_count": null,
   "metadata": {},
   "outputs": [],
   "source": []
  }
 ],
 "metadata": {
  "kernelspec": {
   "display_name": "Python 3",
   "language": "python",
   "name": "python3"
  },
  "language_info": {
   "codemirror_mode": {
    "name": "ipython",
    "version": 3
   },
   "file_extension": ".py",
   "mimetype": "text/x-python",
   "name": "python",
   "nbconvert_exporter": "python",
   "pygments_lexer": "ipython3",
   "version": "3.10.8"
  }
 },
 "nbformat": 4,
 "nbformat_minor": 2
}
